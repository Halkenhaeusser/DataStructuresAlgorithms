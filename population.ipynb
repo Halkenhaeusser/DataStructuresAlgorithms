{
 "cells": [
  {
   "cell_type": "markdown",
   "source": [
    "# Population dynamics\n",
    "\n",
    "## For the fish\n",
    "* At each chronon, a fish moves randomly to one of the adjacent unoccupied squares. If there are no free squares, no movement takes place.\n",
    "* Once a fish has survived a certain number of chronons it may reproduce. This is done as it moves to a neighbouring square, leaving behind a new fish in its old position. Its reproduction time is also reset to zero.\n",
    "\n",
    "## For the sharks\n",
    "* At each chronon, a shark moves randomly to an adjacent square occupied by a fish. If there is none, the shark moves to a random adjacent unoccupied square. If there are no free squares, no movement takes place.\n",
    "* At each chronon, each shark is deprived of a unit of energy.\n",
    "* Upon reaching zero energy, a shark dies.\n",
    "* If a shark moves to a square occupied by a fish, it eats the fish and earns a certain amount of energy.\n",
    "* Once a shark has survived a certain number of chronons it may reproduce in exactly the same way as the fish."
   ],
   "metadata": {}
  },
  {
   "cell_type": "code",
   "execution_count": 1,
   "source": [
    "import numpy as np\n",
    "import pandas as pd\n",
    "import matplotlib.pyplot as plt\n",
    "import random as rd"
   ],
   "outputs": [],
   "metadata": {}
  },
  {
   "cell_type": "code",
   "execution_count": 120,
   "source": [
    "class population:\n",
    "\n",
    "    def __init__(self, size, fish, sharks):\n",
    "        self.size = size\n",
    "        self.fish = fish\n",
    "        self.sharks = sharks\n",
    "        self.grid = np.zeros((size, size))\n",
    "\n",
    "    def empty_slots(self):\n",
    "        return np.where(self.grid == 0)\n",
    "    \n",
    "    def setup(self):\n",
    "\n",
    "        # where are the empty slots on the grid\n",
    "        empty_for_fish = self.empty_slots()\n",
    "\n",
    "        #which indeces should the fish occupy\n",
    "        fish_starters = rd.sample(range(0, len(empty_for_fish[0])), self.fish)\n",
    "\n",
    "        print(len(empty_for_fish[0]))\n",
    "        print(fish_starters)\n",
    "\n",
    "        #for each sampled empty slot\n",
    "        for position in fish_starters:\n",
    "\n",
    "            #occupy it with a fish\n",
    "            self.grid[empty_for_fish[0][position], empty_for_fish[1][position]] = 1\n",
    "\n",
    "        #where do the shark fit\n",
    "        empty_for_shark = self.empty_slots()\n",
    "\n",
    "        #which indeces should the shark occupy\n",
    "        shark_starters = rd.sample(range(0, len(empty_for_shark[0])), self.sharks)\n",
    "        print(len(empty_for_shark[0]))\n",
    "\n",
    "        #for each sampled empty slot\n",
    "        for position in shark_starters:\n",
    "\n",
    "            #occupy it with a fish\n",
    "            self.grid[empty_for_shark[0][position], empty_for_shark[1][position]] = -5\n",
    "\n",
    "    def view(self):\n",
    "        \n",
    "        #get a heatmap for the grid\n",
    "        plt.imshow(self.grid, cmap='RdBu')\n",
    "        plt.title(\"Blue: Fish \\n Red: Sharks\")    \n",
    "        plt.show()  \n",
    "        \n",
    "    def update(self):\n",
    "\n",
    "        #where are my fish?\n",
    "        fish_list = np.where(self.grid > 0)\n",
    "\n",
    "        for fish in range(len(fish_list[0])):\n",
    "\n",
    "            \n",
    "            \n",
    "\n",
    "               \n"
   ],
   "outputs": [],
   "metadata": {}
  },
  {
   "cell_type": "code",
   "execution_count": 125,
   "source": [
    "sim = population(3, 2, 1)\n",
    "sim.setup()\n",
    "print(sim.grid)\n",
    "sim.view()"
   ],
   "outputs": [
    {
     "output_type": "stream",
     "name": "stdout",
     "text": [
      "9\n",
      "[3, 5]\n",
      "7\n",
      "[[ 0.  0.  0.]\n",
      " [ 1.  0.  1.]\n",
      " [ 0.  0. -1.]]\n"
     ]
    },
    {
     "output_type": "display_data",
     "data": {
      "image/png": "[encoded data removed]",
      "text/plain": [
       "<Figure size 432x288 with 1 Axes>"
      ]
     },
     "metadata": {
      "needs_background": "light"
     }
    }
   ],
   "metadata": {}
  },
  {
   "cell_type": "code",
   "execution_count": 126,
   "source": [
    "some = np.zeros((1,1))"
   ],
   "outputs": [],
   "metadata": {}
  },
  {
   "cell_type": "code",
   "execution_count": 87,
   "source": [
    "np.where(some == 0)\n",
    "np.array([i,i])"
   ],
   "outputs": [
    {
     "output_type": "execute_result",
     "data": {
      "text/plain": [
       "(array([0]), array([0]))"
      ]
     },
     "metadata": {},
     "execution_count": 87
    }
   ],
   "metadata": {}
  },
  {
   "cell_type": "code",
   "execution_count": null,
   "source": [],
   "outputs": [],
   "metadata": {}
  }
 ],
 "metadata": {
  "orig_nbformat": 4,
  "language_info": {
   "name": "python",
   "version": "3.8.5",
   "mimetype": "text/x-python",
   "codemirror_mode": {
    "name": "ipython",
    "version": 3
   },
   "pygments_lexer": "ipython3",
   "nbconvert_exporter": "python",
   "file_extension": ".py"
  },
  "kernelspec": {
   "name": "python3",
   "display_name": "Python 3.8.5 64-bit"
  },
  "interpreter": {
   "hash": "acf825a93f1d67e9b21f3d7be3de1b7301682f1e83d4489e56181e84878ca65e"
  }
 },
 "nbformat": 4,
 "nbformat_minor": 2
}