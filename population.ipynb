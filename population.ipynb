{
 "cells": [
  {
   "cell_type": "markdown",
   "metadata": {},
   "source": [
    "# Population dynamics\n",
    "\n",
    "## For the fish\n",
    "* At each chronon, a fish moves randomly to one of the adjacent unoccupied squares. If there are no free squares, no movement takes place.\n",
    "* Once a fish has survived a certain number of chronons it may reproduce. This is done as it moves to a neighbouring square, leaving behind a new fish in its old position. Its reproduction time is also reset to zero.\n",
    "\n",
    "## For the sharks\n",
    "* At each chronon, a shark moves randomly to an adjacent square occupied by a fish. If there is none, the shark moves to a random adjacent unoccupied square. If there are no free squares, no movement takes place.\n",
    "* At each chronon, each shark is deprived of a unit of energy.\n",
    "* Upon reaching zero energy, a shark dies.\n",
    "* If a shark moves to a square occupied by a fish, it eats the fish and earns a certain amount of energy.\n",
    "* Once a shark has survived a certain number of chronons it may reproduce in exactly the same way as the fish."
   ]
  },
  {
   "cell_type": "code",
   "execution_count": 38,
   "metadata": {},
   "outputs": [],
   "source": [
    "import numpy as np\n",
    "import pandas as pd\n",
    "import matplotlib.pyplot as plt\n",
    "import random as rd\n",
    "import seaborn as sns"
   ]
  },
  {
   "cell_type": "code",
   "execution_count": 49,
   "metadata": {},
   "outputs": [],
   "source": [
    "rdgn = sns.diverging_palette(h_neg=50, h_pos=550, s=99, l=55, sep=3, as_cmap=True)"
   ]
  },
  {
   "cell_type": "code",
   "execution_count": 84,
   "metadata": {},
   "outputs": [],
   "source": [
    "class population:\n",
    "\n",
    "    def __init__(self, size, fish, sharks):\n",
    "        self.size = size\n",
    "        self.fish = fish\n",
    "        self.sharks = sharks\n",
    "        self.grid = np.zeros((size, size))\n",
    "\n",
    "    def empty_slots(self):\n",
    "        return np.where(self.grid == 0)\n",
    "    \n",
    "    def setup(self):\n",
    "\n",
    "        # where are the empty slots on the grid\n",
    "        empty_for_fish = self.empty_slots()\n",
    "\n",
    "        #which indeces should the fish occupy\n",
    "        fish_starters = rd.sample(range(0, len(empty_for_fish[0])), self.fish)\n",
    "\n",
    "        print(len(empty_for_fish[0]))\n",
    "        print(fish_starters)\n",
    "\n",
    "        #for each sampled empty slot\n",
    "        for position in fish_starters:\n",
    "\n",
    "            #occupy it with a fish\n",
    "            self.grid[empty_for_fish[0][position], empty_for_fish[1][position]] = 1\n",
    "\n",
    "        #where do the shark fit\n",
    "        empty_for_shark = self.empty_slots()\n",
    "\n",
    "        #which indeces should the shark occupy\n",
    "        shark_starters = rd.sample(range(0, len(empty_for_shark[0])), self.sharks)\n",
    "        print(len(empty_for_shark[0]))\n",
    "\n",
    "        #for each sampled empty slot\n",
    "        for position in shark_starters:\n",
    "\n",
    "            #occupy it with a shark, the more negative, the better for the shark\n",
    "            #The shark digit is separated\n",
    "            # tens: shows the eating value, \n",
    "            # ones: shows the reproduction value\n",
    "            self.grid[empty_for_shark[0][position], empty_for_shark[1][position]] = -10\n",
    "\n",
    "    def view(self):\n",
    "        \n",
    "        #get a heatmap for the grid\n",
    "        sns.heatmap(self.grid, cmap=rdgn,center=0.00)\n",
    "        plt.title(\"Blue: Fish \\n Red: Sharks\")    \n",
    "        plt.show()  \n",
    "        \n",
    "    def update(self):\n",
    "\n",
    "\n",
    "        # updating the fish\n",
    "        #where are my fish?\n",
    "        fish_list = np.where(self.grid > 0)\n",
    "\n",
    "        #for each fisch\n",
    "        for fish in range(len(fish_list[0])):\n",
    "\n",
    "            reproduction_value = self.grid[fish_list[0][fish], fish_list[1][fish]]\n",
    "            \n",
    "            free_spots = []\n",
    "            #get a direction\n",
    "            for direction in [((fish_list[0][fish] +1)%self.size, fish_list[1][fish]),  #up\n",
    "            ((fish_list[0][fish] -1)%self.size, fish_list[1][fish]), #down \n",
    "            (fish_list[0][fish], (fish_list[1][fish] - 1)%self.size), #left\n",
    "            (fish_list[0][fish], (fish_list[1][fish] + 1)%self.size)]: #right\n",
    "\n",
    "                #is that spot free on our grid?\n",
    "                if self.grid[direction[0], direction[1]] == 0:\n",
    "                    free_spots.append(direction)\n",
    "\n",
    "            print(free_spots)\n",
    "\n",
    "            #if there are no free spots\n",
    "            if free_spots == []:\n",
    "\n",
    "                self.grid[fish_list[0][fish], fish_list[1][fish]] += 1\n",
    "\n",
    "            else:\n",
    "\n",
    "                #choose a direction\n",
    "                chosen_dir = rd.choice(free_spots)\n",
    "                print(chosen_dir)\n",
    "\n",
    "                #check if we reproduce\n",
    "                if reproduction_value < 3:\n",
    "                    #move fish there\n",
    "                    self.grid[chosen_dir[0], chosen_dir[1]] = reproduction_value + 1\n",
    "\n",
    "                    #delete fish from old spot\n",
    "                    self.grid[fish_list[0][fish], fish_list[1][fish]] = 0\n",
    "\n",
    "                else:\n",
    "                    #move fish there and reset reproduction value\n",
    "                    self.grid[chosen_dir[0], chosen_dir[1]] = 1\n",
    "\n",
    "                    #introduce the reproduced fish child\n",
    "                    self.grid[fish_list[0][fish], fish_list[1][fish]] = 1\n",
    "\n",
    "        print(self.grid)\n",
    "\n",
    "\n",
    "        #update the sharks\n",
    "\n",
    "        #find my sharks \n",
    "        shark_list = np.where(self.grid < 0)\n",
    "\n",
    "        #for each shark\n",
    "        for shark in range(len(shark_list[0])):\n",
    "\n",
    "            #get the shark value we are working with\n",
    "            shark_value = self.grid[shark_list[0][shark], shark_list[1][shark]]\n",
    "            \n",
    "            #make lists with potential places to move to\n",
    "            fish_spots = []\n",
    "            free_spots = []\n",
    "            \n",
    "            #get a direction\n",
    "            for direction in [((shark_list[0][shark] +1)%self.size, shark_list[1][shark]),  #up\n",
    "            ((shark_list[0][shark] -1)%self.size, shark_list[1][shark]), #down \n",
    "            (shark_list[0][shark], (shark_list[1][shark] - 1)%self.size), #left\n",
    "            (shark_list[0][shark], (shark_list[1][shark] + 1)%self.size)]: #right\n",
    "\n",
    "                #is that spot free on our grid?\n",
    "                if self.grid[direction[0], direction[1]] == 0:\n",
    "                    fish_spots.append(direction)\n",
    "\n",
    "                if self.grid[direction[0], direction[1]] > 0:\n",
    "                    free_spots.append(direction)\n",
    "\n",
    "            print(fish_spots)\n",
    "\n",
    "            if len(fish_spots) != 0:\n",
    "                \n",
    "                #choose a direction\n",
    "                chosen_dir = rd.choice(fish_spots)\n",
    "                print(chosen_dir)\n",
    "\n",
    "                #check if we reproduce (after five timesteps)\n",
    "                if shark_value%-10 < 5:\n",
    "                    \n",
    "                    #move shark there\n",
    "                    self.grid[chosen_dir[0], chosen_dir[1]] = shark_value - 11 #we subtract 10 for eating a fish and 1 to the reproduction clock\n",
    "\n",
    "                    #delete shark from old spot\n",
    "                    self.grid[shark_list[0][shark], shark_list[1][shark]] = 0\n",
    "\n",
    "                else:\n",
    "                    #move shark\n",
    "                    #we reset the clock by getting rid of the ones and subract 10 for eating afish\n",
    "                    self.grid[chosen_dir[0], chosen_dir[1]] = shark_value + (shark_value%10) -10 \n",
    "\n",
    "                    #introduce the reproduced shark child\n",
    "                    self.grid[shark_list[0][shark], shark_list[1][shark]] = -10\n",
    "\n",
    "            elif len(free_spots) != 0:\n",
    "                new_shark_val = shark_value + (shark_value%10) + 10\n",
    "\n",
    "                #check if shark died and we move on to the next shark\n",
    "                if new_shark_val//-10 == 0:\n",
    "                    self.grid[chosen_dir[0], chosen_dir[1]] = 0\n",
    "                    continue \n",
    "\n",
    "\n",
    "                #choose free spot\n",
    "                #choose a direction\n",
    "                chosen_dir = rd.choice(free_spots)\n",
    "                print(chosen_dir)\n",
    "\n",
    "                \n",
    "\n",
    "                #check if we reproduce (after five timesteps)\n",
    "                if shark_value%-10 < 5:\n",
    "                    \n",
    "                    #move shark there\n",
    "                    self.grid[chosen_dir[0], chosen_dir[1]] = shark_value + 9 #we add 10 for not eating a fish and subract 1 to increase the reproduction clock\n",
    "\n",
    "                    #delete shark from old spot\n",
    "                    self.grid[shark_list[0][shark], shark_list[1][shark]] = 0\n",
    "\n",
    "                else:\n",
    "                    #move shark\n",
    "                    #we reset the clock by getting rid of the ones \n",
    "                    \n",
    "                    self.grid[chosen_dir[0], chosen_dir[1]] = new_shark_val #we move the shark and punish it for not eating \n",
    "\n",
    "                    #a new shark is born\n",
    "                    self.grid[shark_list[0][shark], shark_list[1][shark]] = -10 \n",
    "\n",
    "            else:\n",
    "                self.grid[shark_list[0][shark], shark_list[1][shark]] = shark_value + 9\n",
    "\n",
    "\n",
    "            \n",
    "\n",
    "               \n"
   ]
  },
  {
   "cell_type": "code",
   "execution_count": 85,
   "metadata": {},
   "outputs": [
    {
     "name": "stdout",
     "output_type": "stream",
     "text": [
      "9\n",
      "[5]\n",
      "8\n",
      "[[  0.   0. -10.]\n",
      " [  0.   0.   1.]\n",
      " [  0.   0.   0.]]\n"
     ]
    },
    {
     "data": {
      "image/png": "[encoded data removed]",
      "text/plain": [
       "<Figure size 432x288 with 2 Axes>"
      ]
     },
     "metadata": {
      "needs_background": "light"
     },
     "output_type": "display_data"
    },
    {
     "name": "stdout",
     "output_type": "stream",
     "text": [
      "[(2, 2), (1, 1), (1, 0)]\n",
      "(2, 2)\n",
      "[[  0.   0. -10.]\n",
      " [  0.   0.   0.]\n",
      " [  0.   0.   2.]]\n",
      "[(1, 2), (0, 1), (0, 0)]\n",
      "(1, 2)\n"
     ]
    },
    {
     "data": {
      "image/png": "[encoded data removed]",
      "text/plain": [
       "<Figure size 432x288 with 2 Axes>"
      ]
     },
     "metadata": {
      "needs_background": "light"
     },
     "output_type": "display_data"
    }
   ],
   "source": [
    "sim = population(3, 1, 1)\n",
    "sim.setup()\n",
    "print(sim.grid)\n",
    "sim.view()\n",
    "sim.update()\n",
    "sim.view()"
   ]
  },
  {
   "cell_type": "code",
   "execution_count": 72,
   "metadata": {},
   "outputs": [
    {
     "data": {
      "text/plain": [
       "array([[-10., -10.,   3.],\n",
       "       [-10., -28.,   0.],\n",
       "       [-22., -22.,   3.]])"
      ]
     },
     "execution_count": 72,
     "metadata": {},
     "output_type": "execute_result"
    }
   ],
   "source": [
    "sim.grid"
   ]
  },
  {
   "cell_type": "code",
   "execution_count": 81,
   "metadata": {},
   "outputs": [
    {
     "data": {
      "text/plain": [
       "-2"
      ]
     },
     "execution_count": 81,
     "metadata": {},
     "output_type": "execute_result"
    }
   ],
   "source": [
    "-12%-10"
   ]
  },
  {
   "cell_type": "code",
   "execution_count": null,
   "metadata": {},
   "outputs": [],
   "source": []
  }
 ],
 "metadata": {
  "interpreter": {
   "hash": "acf825a93f1d67e9b21f3d7be3de1b7301682f1e83d4489e56181e84878ca65e"
  },
  "kernelspec": {
   "display_name": "Python 3.8.5 64-bit ('base': conda)",
   "name": "python3"
  },
  "language_info": {
   "codemirror_mode": {
    "name": "ipython",
    "version": 3
   },
   "file_extension": ".py",
   "mimetype": "text/x-python",
   "name": "python",
   "nbconvert_exporter": "python",
   "pygments_lexer": "ipython3",
   "version": "3.8.5"
  },
  "orig_nbformat": 4
 },
 "nbformat": 4,
 "nbformat_minor": 2
}
